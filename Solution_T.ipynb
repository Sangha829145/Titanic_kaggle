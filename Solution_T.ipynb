{
 "cells": [
  {
   "cell_type": "code",
   "execution_count": 29,
   "metadata": {},
   "outputs": [],
   "source": [
    "#importing data\n",
    "import pandas as pd\n",
    "A=pd.read_csv(\"/home/sam/ds/Titanic/train.csv\")"
   ]
  },
  {
   "cell_type": "code",
   "execution_count": 30,
   "metadata": {},
   "outputs": [
    {
     "data": {
      "text/html": [
       "<div>\n",
       "<style scoped>\n",
       "    .dataframe tbody tr th:only-of-type {\n",
       "        vertical-align: middle;\n",
       "    }\n",
       "\n",
       "    .dataframe tbody tr th {\n",
       "        vertical-align: top;\n",
       "    }\n",
       "\n",
       "    .dataframe thead th {\n",
       "        text-align: right;\n",
       "    }\n",
       "</style>\n",
       "<table border=\"1\" class=\"dataframe\">\n",
       "  <thead>\n",
       "    <tr style=\"text-align: right;\">\n",
       "      <th></th>\n",
       "      <th>PassengerId</th>\n",
       "      <th>Survived</th>\n",
       "      <th>Pclass</th>\n",
       "      <th>Name</th>\n",
       "      <th>Sex</th>\n",
       "      <th>Age</th>\n",
       "      <th>SibSp</th>\n",
       "      <th>Parch</th>\n",
       "      <th>Ticket</th>\n",
       "      <th>Fare</th>\n",
       "      <th>Cabin</th>\n",
       "      <th>Embarked</th>\n",
       "    </tr>\n",
       "  </thead>\n",
       "  <tbody>\n",
       "    <tr>\n",
       "      <th>0</th>\n",
       "      <td>1</td>\n",
       "      <td>0</td>\n",
       "      <td>3</td>\n",
       "      <td>Braund, Mr. Owen Harris</td>\n",
       "      <td>male</td>\n",
       "      <td>22.0</td>\n",
       "      <td>1</td>\n",
       "      <td>0</td>\n",
       "      <td>A/5 21171</td>\n",
       "      <td>7.2500</td>\n",
       "      <td>NaN</td>\n",
       "      <td>S</td>\n",
       "    </tr>\n",
       "    <tr>\n",
       "      <th>1</th>\n",
       "      <td>2</td>\n",
       "      <td>1</td>\n",
       "      <td>1</td>\n",
       "      <td>Cumings, Mrs. John Bradley (Florence Briggs Th...</td>\n",
       "      <td>female</td>\n",
       "      <td>38.0</td>\n",
       "      <td>1</td>\n",
       "      <td>0</td>\n",
       "      <td>PC 17599</td>\n",
       "      <td>71.2833</td>\n",
       "      <td>C85</td>\n",
       "      <td>C</td>\n",
       "    </tr>\n",
       "    <tr>\n",
       "      <th>2</th>\n",
       "      <td>3</td>\n",
       "      <td>1</td>\n",
       "      <td>3</td>\n",
       "      <td>Heikkinen, Miss. Laina</td>\n",
       "      <td>female</td>\n",
       "      <td>26.0</td>\n",
       "      <td>0</td>\n",
       "      <td>0</td>\n",
       "      <td>STON/O2. 3101282</td>\n",
       "      <td>7.9250</td>\n",
       "      <td>NaN</td>\n",
       "      <td>S</td>\n",
       "    </tr>\n",
       "    <tr>\n",
       "      <th>3</th>\n",
       "      <td>4</td>\n",
       "      <td>1</td>\n",
       "      <td>1</td>\n",
       "      <td>Futrelle, Mrs. Jacques Heath (Lily May Peel)</td>\n",
       "      <td>female</td>\n",
       "      <td>35.0</td>\n",
       "      <td>1</td>\n",
       "      <td>0</td>\n",
       "      <td>113803</td>\n",
       "      <td>53.1000</td>\n",
       "      <td>C123</td>\n",
       "      <td>S</td>\n",
       "    </tr>\n",
       "    <tr>\n",
       "      <th>4</th>\n",
       "      <td>5</td>\n",
       "      <td>0</td>\n",
       "      <td>3</td>\n",
       "      <td>Allen, Mr. William Henry</td>\n",
       "      <td>male</td>\n",
       "      <td>35.0</td>\n",
       "      <td>0</td>\n",
       "      <td>0</td>\n",
       "      <td>373450</td>\n",
       "      <td>8.0500</td>\n",
       "      <td>NaN</td>\n",
       "      <td>S</td>\n",
       "    </tr>\n",
       "  </tbody>\n",
       "</table>\n",
       "</div>"
      ],
      "text/plain": [
       "   PassengerId  Survived  Pclass  \\\n",
       "0            1         0       3   \n",
       "1            2         1       1   \n",
       "2            3         1       3   \n",
       "3            4         1       1   \n",
       "4            5         0       3   \n",
       "\n",
       "                                                Name     Sex   Age  SibSp  \\\n",
       "0                            Braund, Mr. Owen Harris    male  22.0      1   \n",
       "1  Cumings, Mrs. John Bradley (Florence Briggs Th...  female  38.0      1   \n",
       "2                             Heikkinen, Miss. Laina  female  26.0      0   \n",
       "3       Futrelle, Mrs. Jacques Heath (Lily May Peel)  female  35.0      1   \n",
       "4                           Allen, Mr. William Henry    male  35.0      0   \n",
       "\n",
       "   Parch            Ticket     Fare Cabin Embarked  \n",
       "0      0         A/5 21171   7.2500   NaN        S  \n",
       "1      0          PC 17599  71.2833   C85        C  \n",
       "2      0  STON/O2. 3101282   7.9250   NaN        S  \n",
       "3      0            113803  53.1000  C123        S  \n",
       "4      0            373450   8.0500   NaN        S  "
      ]
     },
     "execution_count": 30,
     "metadata": {},
     "output_type": "execute_result"
    }
   ],
   "source": [
    "A.head()"
   ]
  },
  {
   "cell_type": "code",
   "execution_count": 31,
   "metadata": {},
   "outputs": [
    {
     "name": "stdout",
     "output_type": "stream",
     "text": [
      "<class 'pandas.core.frame.DataFrame'>\n",
      "RangeIndex: 891 entries, 0 to 890\n",
      "Data columns (total 12 columns):\n",
      "PassengerId    891 non-null int64\n",
      "Survived       891 non-null int64\n",
      "Pclass         891 non-null int64\n",
      "Name           891 non-null object\n",
      "Sex            891 non-null object\n",
      "Age            714 non-null float64\n",
      "SibSp          891 non-null int64\n",
      "Parch          891 non-null int64\n",
      "Ticket         891 non-null object\n",
      "Fare           891 non-null float64\n",
      "Cabin          204 non-null object\n",
      "Embarked       889 non-null object\n",
      "dtypes: float64(2), int64(5), object(5)\n",
      "memory usage: 83.6+ KB\n",
      "\n",
      "current number of nulls :\n",
      "866\n",
      "\n",
      "continous \n",
      " \n",
      "\n",
      "<class 'pandas.core.frame.DataFrame'>\n",
      "RangeIndex: 891 entries, 0 to 890\n",
      "Data columns (total 12 columns):\n",
      "PassengerId    891 non-null int64\n",
      "Survived       891 non-null int64\n",
      "Pclass         891 non-null int64\n",
      "Name           891 non-null object\n",
      "Sex            891 non-null object\n",
      "Age            891 non-null float64\n",
      "SibSp          891 non-null int64\n",
      "Parch          891 non-null int64\n",
      "Ticket         891 non-null object\n",
      "Fare           891 non-null float64\n",
      "Cabin          204 non-null object\n",
      "Embarked       889 non-null object\n",
      "dtypes: float64(2), int64(5), object(5)\n",
      "memory usage: 83.6+ KB\n",
      "\n",
      "current number of nulls :\n",
      "689\n",
      "\n",
      "catagorical \n",
      " \n",
      "\n",
      "<class 'pandas.core.frame.DataFrame'>\n",
      "RangeIndex: 891 entries, 0 to 890\n",
      "Data columns (total 12 columns):\n",
      "PassengerId    891 non-null int64\n",
      "Survived       891 non-null int64\n",
      "Pclass         891 non-null int64\n",
      "Name           891 non-null object\n",
      "Sex            891 non-null object\n",
      "Age            891 non-null float64\n",
      "SibSp          891 non-null int64\n",
      "Parch          891 non-null int64\n",
      "Ticket         891 non-null object\n",
      "Fare           891 non-null float64\n",
      "Cabin          891 non-null object\n",
      "Embarked       891 non-null object\n",
      "dtypes: float64(2), int64(5), object(5)\n",
      "memory usage: 83.6+ KB\n",
      "\n",
      "current number of nulls :\n",
      "0\n",
      "\n"
     ]
    },
    {
     "name": "stderr",
     "output_type": "stream",
     "text": [
      "/home/sam/anaconda3/lib/python3.7/site-packages/sklearn/utils/deprecation.py:66: DeprecationWarning: Class Imputer is deprecated; Imputer was deprecated in version 0.20 and will be removed in 0.22. Import impute.SimpleImputer from sklearn instead.\n",
      "  warnings.warn(msg, category=DeprecationWarning)\n",
      "/home/sam/anaconda3/lib/python3.7/site-packages/sklearn/utils/deprecation.py:66: DeprecationWarning: Class Imputer is deprecated; Imputer was deprecated in version 0.20 and will be removed in 0.22. Import impute.SimpleImputer from sklearn instead.\n",
      "  warnings.warn(msg, category=DeprecationWarning)\n"
     ]
    }
   ],
   "source": [
    "# imputers help us deal with missing values.\n",
    "\n",
    "\n",
    "\n",
    "# note Imputer seems to work only on continous variables.\n",
    "# for catagorical variable we use ColumnDF = ColumnDF.fillna(ColumnDF.mode().iloc[0,0])\n",
    "# ColumnDF usually x[[\"ColumnName\"]]\n",
    "\n",
    "A.info()\n",
    "\n",
    "print(\"\\ncurrent number of nulls :\")\n",
    "print(A.isnull().sum().sum())\n",
    "print()\n",
    "\n",
    "from sklearn.preprocessing import Imputer\n",
    "\n",
    "#imputer = Imputer(missing_values = 'Nan', strategy = 'mean', axis=0)\n",
    "#missing value columns : AirBags, Rear.seat.room,  Luggage.room\n",
    "import numpy as np\n",
    "# \"mean\" as strategy used for continous numbers\n",
    "\n",
    "imputer = Imputer(missing_values = np.nan, strategy = 'mean', axis =0)\n",
    "\n",
    "# \"most_frequent\" as a strategy used for catagorical variables\n",
    "imputerCat = Imputer(missing_values = np.nan, strategy = 'most_frequent', axis =0)\n",
    "\n",
    "cat = []\n",
    "con = []\n",
    "for i in A.columns:\n",
    "    if(A[i].dtype==\"object\"):\n",
    "        cat.append(i)\n",
    "    else:\n",
    "        con.append(i)\n",
    "        \n",
    "print(\"continous \\n \\n\")\n",
    "        \n",
    "for i in con:\n",
    "    \n",
    "    \n",
    "    num = int(A[[i]].isnull().sum())\n",
    "    if(num>0):\n",
    "        imputer = imputer.fit(A[[i]])\n",
    "        A[[i]] = imputer.transform(A[[i]])\n",
    "        \n",
    "    else:\n",
    "        pass\n",
    "    \n",
    "A.info()\n",
    "print(\"\\ncurrent number of nulls :\")\n",
    "print(A.isnull().sum().sum())\n",
    "print()\n",
    "\n",
    "print(\"catagorical \\n \\n\")\n",
    "\n",
    "for i in cat:\n",
    "    \n",
    "    \n",
    "    num = int(A[[i]].isnull().sum())\n",
    "    if(num>0):\n",
    "        s = A[[i]].mode().iloc[0,0]\n",
    "        A[[i]] = A[[i]].fillna(s)\n",
    "        \n",
    "        \n",
    "    else:\n",
    "        pass\n",
    "\n",
    "\n",
    "\n",
    "# for catagorical missing values\n",
    "\n",
    "A.info()   \n",
    "print(\"\\ncurrent number of nulls :\")\n",
    "print(A.isnull().sum().sum())\n",
    "print()\n",
    "# “most_frequent\"    \n"
   ]
  },
  {
   "cell_type": "code",
   "execution_count": 32,
   "metadata": {},
   "outputs": [
    {
     "data": {
      "text/plain": [
       "0    0\n",
       "1    1\n",
       "2    1\n",
       "3    1\n",
       "4    0\n",
       "Name: Survived, dtype: int64"
      ]
     },
     "execution_count": 32,
     "metadata": {},
     "output_type": "execute_result"
    }
   ],
   "source": [
    "A.columns\n",
    "A.Survived.head(5)"
   ]
  },
  {
   "cell_type": "code",
   "execution_count": 33,
   "metadata": {},
   "outputs": [],
   "source": [
    "Y1 = A[[\"Survived\"]].astype(str)\n",
    "# labels=[\"Unnamed: 0\",\"Width\",\"Model\",\"Manufacturer\",\"MPG.city\",\"Rev.per.mile\",\"Luggage.room\",\"Turn.circle\",\"Rear.seat.room\",\"Passengers\"]\n",
    "labels=[\"Survived\"]\n",
    "X1 = A.drop(labels,axis=1)\n",
    "\n"
   ]
  },
  {
   "cell_type": "code",
   "execution_count": 34,
   "metadata": {},
   "outputs": [
    {
     "name": "stdout",
     "output_type": "stream",
     "text": [
      "unique values for Name : 891\n",
      "unique values for Sex : 2\n",
      "unique values for Ticket : 681\n",
      "unique values for Cabin : 147\n",
      "unique values for Embarked : 3\n",
      "   PassengerId  Pclass  Name   Age  SibSp  Parch  Ticket     Fare  Cabin  \\\n",
      "0            1       3   108  22.0      1      0     523   7.2500     47   \n",
      "1            2       1   190  38.0      1      0     596  71.2833     81   \n",
      "2            3       3   353  26.0      0      0     669   7.9250     47   \n",
      "3            4       1   272  35.0      1      0      49  53.1000     55   \n",
      "4            5       3    15  35.0      0      0     472   8.0500     47   \n",
      "\n",
      "   Sex_female  Sex_male  Embarked_C  Embarked_Q  Embarked_S  \n",
      "0           0         1           0           0           1  \n",
      "1           1         0           1           0           0  \n",
      "2           1         0           0           0           1  \n",
      "3           1         0           0           0           1  \n",
      "4           0         1           0           0           1  \n"
     ]
    },
    {
     "name": "stderr",
     "output_type": "stream",
     "text": [
      "/home/sam/anaconda3/lib/python3.7/site-packages/sklearn/preprocessing/label.py:235: DataConversionWarning: A column-vector y was passed when a 1d array was expected. Please change the shape of y to (n_samples, ), for example using ravel().\n",
      "  y = column_or_1d(y, warn=True)\n"
     ]
    }
   ],
   "source": [
    "\n",
    "for i in cat:\n",
    "    if (i in labels) :#This is what we are predicting/avoiding thus hardcode\n",
    "        pass\n",
    "    else:\n",
    "        n = X1[[i]].nunique()[0] # inconsequencial hardcoded value\n",
    "        print(\"unique values for \"+i+\" : \"+str(n))\n",
    "        if  (n<4):\n",
    "            rtd = pd.get_dummies(X1[[i]])\n",
    "            #print(\"type : \"+str(type(rtd)))\n",
    "            #print(rtd.head())\n",
    "            \n",
    "            X1=X1.join(rtd)\n",
    "            X1=X1.drop(labels=[i],axis=1)\n",
    "            \n",
    "            #one hot encoding\n",
    "            \n",
    "            pass\n",
    "        else:\n",
    "            from sklearn import preprocessing \n",
    "  \n",
    "            le = preprocessing.LabelEncoder() \n",
    "      \n",
    "            X1[[i]]= le.fit_transform(X1[[i]]) \n",
    "  \n",
    "           \n",
    "            #label encoding\n",
    "            \n",
    "            pass\n",
    "        #print(str(i) + \" : \"+ str(n))\n",
    "    \n",
    "print(X1.head(5))"
   ]
  },
  {
   "cell_type": "code",
   "execution_count": 35,
   "metadata": {},
   "outputs": [
    {
     "name": "stdout",
     "output_type": "stream",
     "text": [
      "Index(['PassengerId', 'Pclass', 'Name', 'Age', 'SibSp', 'Parch', 'Ticket',\n",
      "       'Fare', 'Cabin', 'Sex_female', 'Sex_male', 'Embarked_C', 'Embarked_Q',\n",
      "       'Embarked_S'],\n",
      "      dtype='object')\n"
     ]
    },
    {
     "ename": "TypeError",
     "evalue": "unsupported operand type(s) for /: 'str' and 'int'",
     "output_type": "error",
     "traceback": [
      "\u001b[0;31m---------------------------------------------------------------------------\u001b[0m",
      "\u001b[0;31mTypeError\u001b[0m                                 Traceback (most recent call last)",
      "\u001b[0;32m<ipython-input-35-c29848b41474>\u001b[0m in \u001b[0;36m<module>\u001b[0;34m\u001b[0m\n\u001b[1;32m      9\u001b[0m \u001b[0;34m\u001b[0m\u001b[0m\n\u001b[1;32m     10\u001b[0m \u001b[0;32mimport\u001b[0m \u001b[0mseaborn\u001b[0m \u001b[0;32mas\u001b[0m \u001b[0msb\u001b[0m\u001b[0;34m\u001b[0m\u001b[0;34m\u001b[0m\u001b[0m\n\u001b[0;32m---> 11\u001b[0;31m \u001b[0msb\u001b[0m\u001b[0;34m.\u001b[0m\u001b[0mdistplot\u001b[0m\u001b[0;34m(\u001b[0m\u001b[0mY1\u001b[0m\u001b[0;34m)\u001b[0m\u001b[0;34m\u001b[0m\u001b[0;34m\u001b[0m\u001b[0m\n\u001b[0m\u001b[1;32m     12\u001b[0m \u001b[0msb\u001b[0m\u001b[0;34m.\u001b[0m\u001b[0mdistplot\u001b[0m\u001b[0;34m(\u001b[0m\u001b[0mytrain\u001b[0m\u001b[0;34m)\u001b[0m\u001b[0;34m\u001b[0m\u001b[0;34m\u001b[0m\u001b[0m\n\u001b[1;32m     13\u001b[0m \u001b[0;34m\u001b[0m\u001b[0m\n",
      "\u001b[0;32m~/anaconda3/lib/python3.7/site-packages/seaborn/distributions.py\u001b[0m in \u001b[0;36mdistplot\u001b[0;34m(a, bins, hist, kde, rug, fit, hist_kws, kde_kws, rug_kws, fit_kws, color, vertical, norm_hist, axlabel, label, ax)\u001b[0m\n\u001b[1;32m    196\u001b[0m             \u001b[0mline\u001b[0m\u001b[0;34m,\u001b[0m \u001b[0;34m=\u001b[0m \u001b[0max\u001b[0m\u001b[0;34m.\u001b[0m\u001b[0mplot\u001b[0m\u001b[0;34m(\u001b[0m\u001b[0;36m0\u001b[0m\u001b[0;34m,\u001b[0m \u001b[0ma\u001b[0m\u001b[0;34m.\u001b[0m\u001b[0mmean\u001b[0m\u001b[0;34m(\u001b[0m\u001b[0;34m)\u001b[0m\u001b[0;34m)\u001b[0m\u001b[0;34m\u001b[0m\u001b[0;34m\u001b[0m\u001b[0m\n\u001b[1;32m    197\u001b[0m         \u001b[0;32melse\u001b[0m\u001b[0;34m:\u001b[0m\u001b[0;34m\u001b[0m\u001b[0;34m\u001b[0m\u001b[0m\n\u001b[0;32m--> 198\u001b[0;31m             \u001b[0mline\u001b[0m\u001b[0;34m,\u001b[0m \u001b[0;34m=\u001b[0m \u001b[0max\u001b[0m\u001b[0;34m.\u001b[0m\u001b[0mplot\u001b[0m\u001b[0;34m(\u001b[0m\u001b[0ma\u001b[0m\u001b[0;34m.\u001b[0m\u001b[0mmean\u001b[0m\u001b[0;34m(\u001b[0m\u001b[0;34m)\u001b[0m\u001b[0;34m,\u001b[0m \u001b[0;36m0\u001b[0m\u001b[0;34m)\u001b[0m\u001b[0;34m\u001b[0m\u001b[0;34m\u001b[0m\u001b[0m\n\u001b[0m\u001b[1;32m    199\u001b[0m         \u001b[0mcolor\u001b[0m \u001b[0;34m=\u001b[0m \u001b[0mline\u001b[0m\u001b[0;34m.\u001b[0m\u001b[0mget_color\u001b[0m\u001b[0;34m(\u001b[0m\u001b[0;34m)\u001b[0m\u001b[0;34m\u001b[0m\u001b[0;34m\u001b[0m\u001b[0m\n\u001b[1;32m    200\u001b[0m         \u001b[0mline\u001b[0m\u001b[0;34m.\u001b[0m\u001b[0mremove\u001b[0m\u001b[0;34m(\u001b[0m\u001b[0;34m)\u001b[0m\u001b[0;34m\u001b[0m\u001b[0;34m\u001b[0m\u001b[0m\n",
      "\u001b[0;32m~/anaconda3/lib/python3.7/site-packages/numpy/core/_methods.py\u001b[0m in \u001b[0;36m_mean\u001b[0;34m(a, axis, dtype, out, keepdims)\u001b[0m\n\u001b[1;32m     85\u001b[0m             \u001b[0mret\u001b[0m \u001b[0;34m=\u001b[0m \u001b[0mret\u001b[0m\u001b[0;34m.\u001b[0m\u001b[0mdtype\u001b[0m\u001b[0;34m.\u001b[0m\u001b[0mtype\u001b[0m\u001b[0;34m(\u001b[0m\u001b[0mret\u001b[0m \u001b[0;34m/\u001b[0m \u001b[0mrcount\u001b[0m\u001b[0;34m)\u001b[0m\u001b[0;34m\u001b[0m\u001b[0;34m\u001b[0m\u001b[0m\n\u001b[1;32m     86\u001b[0m     \u001b[0;32melse\u001b[0m\u001b[0;34m:\u001b[0m\u001b[0;34m\u001b[0m\u001b[0;34m\u001b[0m\u001b[0m\n\u001b[0;32m---> 87\u001b[0;31m         \u001b[0mret\u001b[0m \u001b[0;34m=\u001b[0m \u001b[0mret\u001b[0m \u001b[0;34m/\u001b[0m \u001b[0mrcount\u001b[0m\u001b[0;34m\u001b[0m\u001b[0;34m\u001b[0m\u001b[0m\n\u001b[0m\u001b[1;32m     88\u001b[0m \u001b[0;34m\u001b[0m\u001b[0m\n\u001b[1;32m     89\u001b[0m     \u001b[0;32mreturn\u001b[0m \u001b[0mret\u001b[0m\u001b[0;34m\u001b[0m\u001b[0;34m\u001b[0m\u001b[0m\n",
      "\u001b[0;31mTypeError\u001b[0m: unsupported operand type(s) for /: 'str' and 'int'"
     ]
    },
    {
     "data": {
      "image/png": "[encoded data removed]",
      "text/plain": [
       "<Figure size 432x288 with 1 Axes>"
      ]
     },
     "metadata": {
      "needs_background": "light"
     },
     "output_type": "display_data"
    }
   ],
   "source": [
    "print(X1.columns)\n",
    "\n",
    "# X1 = X1.drop(labels=[\"Foundation\",\"LotConfig\", \"ExterCond\", \"Foundation\", \"BsmtFinType2\", \"BsmtFinSF2\", \"Heating\", \"HeatingQC\", \"Electrical\"\n",
    "#                      , \"BsmtHalfBath\",\"HalfBath\", \"GarageArea\" , \"GarageQual\", \"OpenPorchSF\", \n",
    "#                      \"Fence\", \"MoSold\", \"PoolQC_Ex\"],axis=1)\n",
    "from sklearn.model_selection import train_test_split\n",
    "# X1 = X1.drop(labels=[\"Origin\"],axis = 1)\n",
    "xtrain,xtest,ytrain,ytest = train_test_split(X1,Y1,test_size=0.2,random_state=30)\n",
    "\n",
    "import seaborn as sb\n",
    "sb.distplot(Y1)\n",
    "sb.distplot(ytrain)\n",
    "\n",
    "\n",
    "from statsmodels.api import OLS,add_constant\n",
    "xconst = add_constant(xtrain)\n",
    "est = OLS(ytrain,xconst)\n",
    "est2 = est.fit()\n",
    "print(est2.summary())\n",
    "# LotConfig, ExterCond, Foundation, BsmtFinType2, BsmtFinSF2, Heating, HeatingQC, Electrical, BsmtHalfBath\n",
    "# HalfBath, GarageArea , GarageQual, OpenPorchSF, Fence, MoSold, PoolQC_Ex"
   ]
  },
  {
   "cell_type": "code",
   "execution_count": 37,
   "metadata": {},
   "outputs": [
    {
     "name": "stdout",
     "output_type": "stream",
     "text": [
      "r2_score  :-0.0037819509650496297\n",
      "adjusted r2_score  :-0.0051938817711896235\n",
      "0.7597765363128491\n"
     ]
    }
   ],
   "source": [
    "# using decision tree\n",
    "from sklearn.tree import DecisionTreeClassifier\n",
    "dtr = DecisionTreeClassifier(random_state=20)\n",
    "model = dtr.fit(xtrain,ytrain)\n",
    "pred = model.predict(xtest)\n",
    "\n",
    "from sklearn.metrics import mean_absolute_error,mean_squared_error, r2_score, accuracy_score\n",
    "R2=r2_score(ytest,pred)\n",
    "\n",
    "p = xtrain.columns.nunique()\n",
    "n = xtrain.size\n",
    "\n",
    "Adj_r2 = 1-(1-R2)*(n-1)/(n-p-1)\n",
    "# print(\"r2_score  :\"+str(R2))\n",
    "# print(\"adjusted r2_score  :\"+str(Adj_r2))\n",
    "\n",
    "print(accuracy_score(ytest,pred))"
   ]
  },
  {
   "cell_type": "code",
   "execution_count": 43,
   "metadata": {},
   "outputs": [
    {
     "name": "stdout",
     "output_type": "stream",
     "text": [
      "0.8379888268156425\n",
      "[[98 10]\n",
      " [19 52]]\n",
      "              precision    recall  f1-score   support\n",
      "\n",
      "           0       0.84      0.91      0.87       108\n",
      "           1       0.84      0.73      0.78        71\n",
      "\n",
      "    accuracy                           0.84       179\n",
      "   macro avg       0.84      0.82      0.83       179\n",
      "weighted avg       0.84      0.84      0.84       179\n",
      "\n"
     ]
    },
    {
     "name": "stderr",
     "output_type": "stream",
     "text": [
      "/home/sam/anaconda3/lib/python3.7/site-packages/ipykernel_launcher.py:5: DataConversionWarning: A column-vector y was passed when a 1d array was expected. Please change the shape of y to (n_samples,), for example using ravel().\n",
      "  \"\"\"\n"
     ]
    }
   ],
   "source": [
    "# now we will test out the random forest\n",
    "\n",
    "from sklearn.ensemble import RandomForestClassifier\n",
    "model = RandomForestClassifier(n_estimators=40,min_samples_split=7)\n",
    "model = model.fit(xtrain,ytrain)\n",
    "pred = model.predict(xtest)\n",
    "# R2=r2_score(ytest,pred)\n",
    "\n",
    "# p = xtrain.columns.nunique()\n",
    "# n = xtrain.size\n",
    "\n",
    "# Adj_r2 = 1-(1-R2)*(n-1)/(n-p-1)\n",
    "# print(\"r2_score  :\"+str(R2))\n",
    "# print(\"adjusted r2_score  :\"+str(Adj_r2))\n",
    "from sklearn.metrics import mean_squared_log_error, accuracy_score, confusion_matrix, classification_report\n",
    "# v = mean_squared_log_error(ytest, pred)\n",
    "# import math as mt\n",
    "print(accuracy_score(ytest,pred))\n",
    "print(confusion_matrix(ytest,pred))\n",
    "print(classification_report(ytest,pred))\n"
   ]
  },
  {
   "cell_type": "markdown",
   "metadata": {},
   "source": [
    "# USING THE TEST FILE"
   ]
  },
  {
   "cell_type": "code",
   "execution_count": 46,
   "metadata": {},
   "outputs": [
    {
     "name": "stdout",
     "output_type": "stream",
     "text": [
      "<class 'pandas.core.frame.DataFrame'>\n",
      "RangeIndex: 418 entries, 0 to 417\n",
      "Data columns (total 11 columns):\n",
      "PassengerId    418 non-null int64\n",
      "Pclass         418 non-null int64\n",
      "Name           418 non-null object\n",
      "Sex            418 non-null object\n",
      "Age            332 non-null float64\n",
      "SibSp          418 non-null int64\n",
      "Parch          418 non-null int64\n",
      "Ticket         418 non-null object\n",
      "Fare           417 non-null float64\n",
      "Cabin          91 non-null object\n",
      "Embarked       418 non-null object\n",
      "dtypes: float64(2), int64(4), object(5)\n",
      "memory usage: 36.0+ KB\n",
      "\n",
      "current number of nulls :\n",
      "414\n",
      "\n",
      "continous \n",
      " \n",
      "\n",
      "<class 'pandas.core.frame.DataFrame'>\n",
      "RangeIndex: 418 entries, 0 to 417\n",
      "Data columns (total 11 columns):\n",
      "PassengerId    418 non-null int64\n",
      "Pclass         418 non-null int64\n",
      "Name           418 non-null object\n",
      "Sex            418 non-null object\n",
      "Age            418 non-null float64\n",
      "SibSp          418 non-null int64\n",
      "Parch          418 non-null int64\n",
      "Ticket         418 non-null object\n",
      "Fare           418 non-null float64\n",
      "Cabin          91 non-null object\n",
      "Embarked       418 non-null object\n",
      "dtypes: float64(2), int64(4), object(5)\n",
      "memory usage: 36.0+ KB\n",
      "\n",
      "current number of nulls :\n",
      "327\n",
      "\n",
      "catagorical \n",
      " \n",
      "\n",
      "<class 'pandas.core.frame.DataFrame'>\n",
      "RangeIndex: 418 entries, 0 to 417\n",
      "Data columns (total 11 columns):\n",
      "PassengerId    418 non-null int64\n",
      "Pclass         418 non-null int64\n",
      "Name           418 non-null object\n",
      "Sex            418 non-null object\n",
      "Age            418 non-null float64\n",
      "SibSp          418 non-null int64\n",
      "Parch          418 non-null int64\n",
      "Ticket         418 non-null object\n",
      "Fare           418 non-null float64\n",
      "Cabin          418 non-null object\n",
      "Embarked       418 non-null object\n",
      "dtypes: float64(2), int64(4), object(5)\n",
      "memory usage: 36.0+ KB\n",
      "\n",
      "current number of nulls :\n",
      "0\n",
      "\n"
     ]
    },
    {
     "name": "stderr",
     "output_type": "stream",
     "text": [
      "/home/sam/anaconda3/lib/python3.7/site-packages/sklearn/utils/deprecation.py:66: DeprecationWarning: Class Imputer is deprecated; Imputer was deprecated in version 0.20 and will be removed in 0.22. Import impute.SimpleImputer from sklearn instead.\n",
      "  warnings.warn(msg, category=DeprecationWarning)\n",
      "/home/sam/anaconda3/lib/python3.7/site-packages/sklearn/utils/deprecation.py:66: DeprecationWarning: Class Imputer is deprecated; Imputer was deprecated in version 0.20 and will be removed in 0.22. Import impute.SimpleImputer from sklearn instead.\n",
      "  warnings.warn(msg, category=DeprecationWarning)\n"
     ]
    }
   ],
   "source": [
    "A=pd.read_csv(\"/home/sam/ds/Titanic/test.csv\")\n",
    "# imputers help us deal with missing values.\n",
    "\n",
    "\n",
    "\n",
    "# note Imputer seems to work only on continous variables.\n",
    "# for catagorical variable we use ColumnDF = ColumnDF.fillna(ColumnDF.mode().iloc[0,0])\n",
    "# ColumnDF usually x[[\"ColumnName\"]]\n",
    "\n",
    "A.info()\n",
    "\n",
    "print(\"\\ncurrent number of nulls :\")\n",
    "print(A.isnull().sum().sum())\n",
    "print()\n",
    "\n",
    "from sklearn.preprocessing import Imputer\n",
    "\n",
    "#imputer = Imputer(missing_values = 'Nan', strategy = 'mean', axis=0)\n",
    "#missing value columns : AirBags, Rear.seat.room,  Luggage.room\n",
    "import numpy as np\n",
    "# \"mean\" as strategy used for continous numbers\n",
    "\n",
    "imputer = Imputer(missing_values = np.nan, strategy = 'mean', axis =0)\n",
    "\n",
    "# \"most_frequent\" as a strategy used for catagorical variables\n",
    "imputerCat = Imputer(missing_values = np.nan, strategy = 'most_frequent', axis =0)\n",
    "\n",
    "cat = []\n",
    "con = []\n",
    "for i in A.columns:\n",
    "    if(A[i].dtype==\"object\"):\n",
    "        cat.append(i)\n",
    "    else:\n",
    "        con.append(i)\n",
    "        \n",
    "print(\"continous \\n \\n\")\n",
    "        \n",
    "for i in con:\n",
    "    \n",
    "    \n",
    "    num = int(A[[i]].isnull().sum())\n",
    "    if(num>0):\n",
    "        imputer = imputer.fit(A[[i]])\n",
    "        A[[i]] = imputer.transform(A[[i]])\n",
    "        \n",
    "    else:\n",
    "        pass\n",
    "    \n",
    "A.info()\n",
    "print(\"\\ncurrent number of nulls :\")\n",
    "print(A.isnull().sum().sum())\n",
    "print()\n",
    "\n",
    "print(\"catagorical \\n \\n\")\n",
    "\n",
    "for i in cat:\n",
    "    \n",
    "    \n",
    "    num = int(A[[i]].isnull().sum())\n",
    "    if(num>0):\n",
    "        s = A[[i]].mode().iloc[0,0]\n",
    "        A[[i]] = A[[i]].fillna(s)\n",
    "        \n",
    "        \n",
    "    else:\n",
    "        pass\n",
    "\n",
    "\n",
    "\n",
    "# for catagorical missing values\n",
    "\n",
    "A.info()   \n",
    "print(\"\\ncurrent number of nulls :\")\n",
    "print(A.isnull().sum().sum())\n",
    "print()\n",
    "# “most_frequent\"    \n"
   ]
  },
  {
   "cell_type": "code",
   "execution_count": 50,
   "metadata": {},
   "outputs": [],
   "source": [
    "#Y1 = A[[\"Survived\"]].astype(str)\n",
    "# labels=[\"Unnamed: 0\",\"Width\",\"Model\",\"Manufacturer\",\"MPG.city\",\"Rev.per.mile\",\"Luggage.room\",\"Turn.circle\",\"Rear.seat.room\",\"Passengers\"]\n",
    "labels=[]\n",
    "X1 = A.drop(labels,axis=1)\n",
    "\n"
   ]
  },
  {
   "cell_type": "code",
   "execution_count": 52,
   "metadata": {},
   "outputs": [
    {
     "name": "stdout",
     "output_type": "stream",
     "text": [
      "unique values for Name : 418\n",
      "unique values for Sex : 2\n",
      "unique values for Ticket : 363\n",
      "unique values for Cabin : 76\n",
      "unique values for Embarked : 3\n",
      "   PassengerId  Pclass  Name   Age  SibSp  Parch  Ticket     Fare  Cabin  \\\n",
      "0          892       3   206  34.5      0      0     152   7.8292     15   \n",
      "1          893       3   403  47.0      1      0     221   7.0000     15   \n",
      "2          894       2   269  62.0      0      0      73   9.6875     15   \n",
      "3          895       3   408  27.0      0      0     147   8.6625     15   \n",
      "4          896       3   178  22.0      1      1     138  12.2875     15   \n",
      "\n",
      "   Sex_female  Sex_male  Embarked_C  Embarked_Q  Embarked_S  \n",
      "0           0         1           0           1           0  \n",
      "1           1         0           0           0           1  \n",
      "2           0         1           0           1           0  \n",
      "3           0         1           0           0           1  \n",
      "4           1         0           0           0           1  \n"
     ]
    },
    {
     "name": "stderr",
     "output_type": "stream",
     "text": [
      "/home/sam/anaconda3/lib/python3.7/site-packages/sklearn/preprocessing/label.py:235: DataConversionWarning: A column-vector y was passed when a 1d array was expected. Please change the shape of y to (n_samples, ), for example using ravel().\n",
      "  y = column_or_1d(y, warn=True)\n"
     ]
    }
   ],
   "source": [
    "\n",
    "for i in cat:\n",
    "    if (i in labels) :#This is what we are predicting/avoiding thus hardcode\n",
    "        pass\n",
    "    else:\n",
    "        n = X1[[i]].nunique()[0] # inconsequencial hardcoded value\n",
    "        print(\"unique values for \"+i+\" : \"+str(n))\n",
    "        if  (n<4):\n",
    "            rtd = pd.get_dummies(X1[[i]])\n",
    "            #print(\"type : \"+str(type(rtd)))\n",
    "            #print(rtd.head())\n",
    "            \n",
    "            X1=X1.join(rtd)\n",
    "            X1=X1.drop(labels=[i],axis=1)\n",
    "            \n",
    "            #one hot encoding\n",
    "            \n",
    "            pass\n",
    "        else:\n",
    "            from sklearn import preprocessing \n",
    "  \n",
    "            le = preprocessing.LabelEncoder() \n",
    "      \n",
    "            X1[[i]]= le.fit_transform(X1[[i]]) \n",
    "  \n",
    "           \n",
    "            #label encoding\n",
    "            \n",
    "            pass\n",
    "        #print(str(i) + \" : \"+ str(n))\n",
    "    \n",
    "print(X1.head(5))"
   ]
  },
  {
   "cell_type": "code",
   "execution_count": 57,
   "metadata": {},
   "outputs": [],
   "source": [
    "pred = model.predict(X1)\n",
    "\n",
    "X1['Survived'] = pred"
   ]
  },
  {
   "cell_type": "code",
   "execution_count": 62,
   "metadata": {},
   "outputs": [],
   "source": [
    "\n",
    "A=pd.read_csv(\"/home/sam/ds/Titanic/gender_submission.csv\")\n",
    "A.head()\n",
    "A = A.drop(\"Survived\",axis=1)\n",
    "A['Survived'] = pred\n",
    "\n",
    "A.to_csv('submissionT.csv',index=False)"
   ]
  },
  {
   "cell_type": "code",
   "execution_count": null,
   "metadata": {},
   "outputs": [],
   "source": []
  },
  {
   "cell_type": "code",
   "execution_count": null,
   "metadata": {},
   "outputs": [],
   "source": []
  },
  {
   "cell_type": "code",
   "execution_count": null,
   "metadata": {},
   "outputs": [],
   "source": []
  },
  {
   "cell_type": "code",
   "execution_count": null,
   "metadata": {},
   "outputs": [],
   "source": []
  },
  {
   "cell_type": "code",
   "execution_count": null,
   "metadata": {},
   "outputs": [],
   "source": []
  },
  {
   "cell_type": "code",
   "execution_count": 44,
   "metadata": {},
   "outputs": [
    {
     "data": {
      "text/plain": [
       "<BarContainer object of 14 artists>"
      ]
     },
     "execution_count": 44,
     "metadata": {},
     "output_type": "execute_result"
    },
    {
     "data": {
      "image/png": "[encoded data removed]",
      "text/plain": [
       "<Figure size 432x288 with 1 Axes>"
      ]
     },
     "metadata": {
      "needs_background": "light"
     },
     "output_type": "display_data"
    }
   ],
   "source": [
    "import matplotlib.pyplot as plt\n",
    "plt.barh(X1.columns, model.feature_importances_)"
   ]
  },
  {
   "cell_type": "code",
   "execution_count": null,
   "metadata": {},
   "outputs": [],
   "source": [
    "#For submiting here"
   ]
  },
  {
   "cell_type": "code",
   "execution_count": null,
   "metadata": {},
   "outputs": [],
   "source": []
  },
  {
   "cell_type": "code",
   "execution_count": null,
   "metadata": {},
   "outputs": [],
   "source": []
  },
  {
   "cell_type": "code",
   "execution_count": null,
   "metadata": {},
   "outputs": [],
   "source": []
  },
  {
   "cell_type": "code",
   "execution_count": null,
   "metadata": {},
   "outputs": [],
   "source": []
  }
 ],
 "metadata": {
  "kernelspec": {
   "display_name": "Python 3",
   "language": "python",
   "name": "python3"
  },
  "language_info": {
   "codemirror_mode": {
    "name": "ipython",
    "version": 3
   },
   "file_extension": ".py",
   "mimetype": "text/x-python",
   "name": "python",
   "nbconvert_exporter": "python",
   "pygments_lexer": "ipython3",
   "version": "3.7.3"
  }
 },
 "nbformat": 4,
 "nbformat_minor": 2
}
